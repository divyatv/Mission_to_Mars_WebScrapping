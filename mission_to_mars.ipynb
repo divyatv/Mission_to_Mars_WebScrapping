{
 "cells": [
  {
   "cell_type": "markdown",
   "metadata": {},
   "source": [
    "### Mission to Mars\n",
    "## Divya TV August 12 2019 ###"
   ]
  },
  {
   "cell_type": "code",
   "execution_count": 1,
   "metadata": {},
   "outputs": [],
   "source": [
    "from bs4 import BeautifulSoup\n",
    "import requests\n",
    "from splinter import Browser\n"
   ]
  },
  {
   "cell_type": "code",
   "execution_count": 60,
   "metadata": {},
   "outputs": [
    {
     "name": "stdout",
     "output_type": "stream",
     "text": [
      "https://mars.nasa.gov/news/8505/scientists-explore-outback-as-testbed-for-mars/\n",
      "[<p>This week, scientists from NASA's upcoming Mars 2020 mission joined their counterparts from the joint European-Russian ExoMars mission in an expedition to the Australian Outback, one of the most remote, arid regions on the planet. Both teams came to hone their research techniques before their missions launch to the Red Planet next summer in search of signs of past life on Mars.</p>, 'Scientists Explore Outback as Testbed for Mars ']\n"
     ]
    }
   ],
   "source": [
    "## Get latest news for mars\n",
    "\n",
    "executable_path = {'executable_path': 'chromedriver.exe'}\n",
    "browser = Browser('chrome', **executable_path, headless=True)\n",
    "url = 'https://mars.nasa.gov/#news_and_events'\n",
    "\n",
    "browser.visit(url)\n",
    "html = browser.html\n",
    "soup = BeautifulSoup(html, 'html.parser')\n",
    "\n",
    "####################### Writing and reading while there was no internet ##########################\n",
    "# with open(\"mars_news.html\", \"w\", encoding='utf-8') as file:\n",
    "#     file.write(str(soup))\n",
    "    \n",
    "# with open(\"mars_news.html\", \"r\", encoding='utf-8') as file:\n",
    "#     soup=file.read()\n",
    "#soup = BeautifulSoup(html, 'html.parser')\n",
    "####################################################################################\n",
    "    \n",
    "### get latest news title ##########################################################       \n",
    "latest_news_mars = soup.find('ul', class_='item_list list_view')\n",
    "    \n",
    "new_title_changed_page=latest_news_mars.find('h3', {'class':'title'}).find('a')['href']\n",
    "news_p=latest_news_mars.find('h3', {'class':'title'}).find('a').get_text()\n",
    "####################################################################################\n",
    "####### Get the news content -> The html tags changed last week - had to redo ######\n",
    "baseurl='https://mars.nasa.gov'\n",
    "next_url=baseurl + new_title_changed_page\n",
    "################### scraping the content ##########################################\n",
    "executable_path = {'executable_path': 'chromedriver.exe'}\n",
    "browser = Browser('chrome', **executable_path, headless=True)\n",
    "    \n",
    "browser.visit(next_url)\n",
    "html = browser.html\n",
    "soup = BeautifulSoup(html, 'html.parser')\n",
    "\n",
    "mars_news_content=soup.find('div', {'class':'wysiwyg_content'}).find('p').get_text()\n",
    "\n",
    "return_list=[mars_news_content,news_p]\n",
    "print(return_list)"
   ]
  },
  {
   "cell_type": "code",
   "execution_count": 64,
   "metadata": {},
   "outputs": [
    {
     "name": "stdout",
     "output_type": "stream",
     "text": [
      "background-image: url('/spaceimages/images/wallpaper/PIA18185-1920x1200.jpg');\n",
      "/spaceimages/images/wallpaper/PIA18185-1920x1200.jpg\n"
     ]
    }
   ],
   "source": [
    "#### Get the latest mars image and assing it to the variable ###########\n",
    "### ### JPL Mars Space Images - Featured Image##########################\n",
    "executable_path = {'executable_path': 'chromedriver.exe'}\n",
    "browser = Browser('chrome', **executable_path, headless=True)\n",
    "url = 'https://www.jpl.nasa.gov/spaceimages/?search=&category=Mars'\n",
    "\n",
    "\n",
    "browser.visit(url)\n",
    "html = browser.html\n",
    "soup = BeautifulSoup(html, 'html.parser')\n",
    "\n",
    "# with open(\"mars_featured_image.html\", \"w\", encoding='utf-8') as file:\n",
    "#      file.write(str(soup))\n",
    "        \n",
    "mars_featured_picture=soup.find('article')        \n",
    "\n",
    "mars_featured_picture_jpg=mars_featured_picture.get('style')\n",
    "print(mars_featured_picture_jpg)\n",
    "\n",
    "url=mars_featured_picture_jpg.split(\"(\")\n",
    "# print(url[1])\n",
    "\n",
    "url1=url[1].split(\");\")\n",
    "# print(url1[0])\n",
    "\n",
    "import re\n",
    "image_url=url1[0].replace(\"'\", \"\")\n",
    "print(image_url)"
   ]
  },
  {
   "cell_type": "code",
   "execution_count": 65,
   "metadata": {},
   "outputs": [
    {
     "name": "stdout",
     "output_type": "stream",
     "text": [
      "featured_image_url for mars= https://www.jpl.nasa.gov/spaceimages/images/wallpaper/PIA18185-1920x1200.jpg\n"
     ]
    }
   ],
   "source": [
    "### JPL Mars Space Images - Featured Image ##########################\n",
    "## Build the url for mars image #####################################\n",
    "featured_image_url = 'https://www.jpl.nasa.gov' + image_url\n",
    "print(\"featured_image_url for mars=\",featured_image_url)"
   ]
  },
  {
   "cell_type": "code",
   "execution_count": 81,
   "metadata": {},
   "outputs": [],
   "source": [
    "#### Mars weather #############################################\n",
    "executable_path = {'executable_path': 'chromedriver.exe'}\n",
    "browser = Browser('chrome', **executable_path, headless=True)\n",
    "url = 'https://twitter.com/marswxreport?lang=en'\n",
    "\n",
    "browser.visit(url)\n",
    "html = browser.html\n",
    "soup = BeautifulSoup(html, 'html.parser')\n",
    "\n"
   ]
  },
  {
   "cell_type": "code",
   "execution_count": 89,
   "metadata": {},
   "outputs": [
    {
     "name": "stdout",
     "output_type": "stream",
     "text": [
      "\n",
      "  sol 261 (2019-08-21) low -102.4ºC (-152.4ºF) high -26.6ºC (-15.8ºF)\n",
      "winds from the SSE at 4.9 m/s (11.0 mph) gusting to 16.0 m/s (35.8 mph)\n",
      "pressure at 7.70  \n",
      "\n"
     ]
    }
   ],
   "source": [
    "#### Mars weather #############################################\n",
    "import requests\n",
    "from splinter.exceptions import ElementDoesNotExist\n",
    "\n",
    "# ### Writing it to a file helps to see which class to call next to scrape the data.\n",
    "# with open(\"mars_weather.html\", \"w\", encoding='utf-8') as file:\n",
    "#     file.write(str(soup))\n",
    "    \n",
    "#mars_weather=soup.find_all('p', class_='TweetTextSize')\n",
    "#TweetTextSize TweetTextSize--normal js-tweet-text tweet-text\n",
    "mars_weather=soup.find_all('div', class_='js-tweet-text-container')\n",
    "#mars_weather=mars_weather[0].get_text()\n",
    "mars_weather=mars_weather[0].get_text()\n",
    "\n",
    "#### Remove the strings that are not needed #######\n",
    "import re\n",
    "mars_weather=re.sub(\"InSight\", \" \",mars_weather)\n",
    "mars_weather=re.sub(\"hPapic.twitter.com/MhPPOHJg3m\", \" \",mars_weather)\n",
    "print(mars_weather)\n"
   ]
  },
  {
   "cell_type": "code",
   "execution_count": 105,
   "metadata": {},
   "outputs": [],
   "source": [
    "### Mars Facts - fetch mars facts as a table.\n",
    "executable_path = {'executable_path': 'chromedriver.exe'}\n",
    "browser = Browser('chrome', **executable_path, headless=True)\n",
    "url = 'https://space-facts.com/mars/'\n",
    "\n",
    "browser.visit(url)\n",
    "html = browser.html\n",
    "soup = BeautifulSoup(html, 'html.parser')\n",
    "\n",
    "mars_facts=soup.find(id='tablepress-comp-mars')\n",
    "# print(mars_facts)\n",
    "\n",
    "#### Writing into a file - if there is no internet for later use. One can read directly fromt he https url as well #######\n",
    "with open(\"mars_facts.html\", \"w\", encoding='utf-8') as file:\n",
    "    file.write(str(mars_facts))"
   ]
  },
  {
   "cell_type": "code",
   "execution_count": 106,
   "metadata": {},
   "outputs": [
    {
     "data": {
      "text/html": [
       "<div>\n",
       "<style scoped>\n",
       "    .dataframe tbody tr th:only-of-type {\n",
       "        vertical-align: middle;\n",
       "    }\n",
       "\n",
       "    .dataframe tbody tr th {\n",
       "        vertical-align: top;\n",
       "    }\n",
       "\n",
       "    .dataframe thead th {\n",
       "        text-align: right;\n",
       "    }\n",
       "</style>\n",
       "<table border=\"1\" class=\"dataframe\">\n",
       "  <thead>\n",
       "    <tr style=\"text-align: right;\">\n",
       "      <th></th>\n",
       "      <th>Mars - Earth Comparison</th>\n",
       "      <th>Mars</th>\n",
       "    </tr>\n",
       "  </thead>\n",
       "  <tbody>\n",
       "    <tr>\n",
       "      <th>0</th>\n",
       "      <td>Diameter:</td>\n",
       "      <td>6,779 km</td>\n",
       "    </tr>\n",
       "    <tr>\n",
       "      <th>1</th>\n",
       "      <td>Mass:</td>\n",
       "      <td>6.39 × 10^23 kg</td>\n",
       "    </tr>\n",
       "    <tr>\n",
       "      <th>2</th>\n",
       "      <td>Moons:</td>\n",
       "      <td>2</td>\n",
       "    </tr>\n",
       "    <tr>\n",
       "      <th>3</th>\n",
       "      <td>Distance from Sun:</td>\n",
       "      <td>227,943,824 km</td>\n",
       "    </tr>\n",
       "    <tr>\n",
       "      <th>4</th>\n",
       "      <td>Length of Year:</td>\n",
       "      <td>687 Earth days</td>\n",
       "    </tr>\n",
       "    <tr>\n",
       "      <th>5</th>\n",
       "      <td>Temperature:</td>\n",
       "      <td>-153 to 20 °C</td>\n",
       "    </tr>\n",
       "  </tbody>\n",
       "</table>\n",
       "</div>"
      ],
      "text/plain": [
       "  Mars - Earth Comparison             Mars\n",
       "0               Diameter:         6,779 km\n",
       "1                   Mass:  6.39 × 10^23 kg\n",
       "2                  Moons:                2\n",
       "3      Distance from Sun:   227,943,824 km\n",
       "4         Length of Year:   687 Earth days\n",
       "5            Temperature:    -153 to 20 °C"
      ]
     },
     "execution_count": 106,
     "metadata": {},
     "output_type": "execute_result"
    }
   ],
   "source": [
    "#### MARS facts - converting html string to pandas dataframe\n",
    "# from IPython.display import display_html -- convertsted html table in dataframe\n",
    "import pandas as pd\n",
    "# type(mars_facts)\n",
    "mars_dataframe = pd.read_html(mars_facts.prettify())[0]\n",
    "#df.drop(columns=['B', 'C'])\n",
    "mars_dataframe=mars_dataframe.drop(columns=['Earth'])\n",
    "mars_dataframe.head(10)\n",
    "\n",
    "##### DATAFRAME styling in added in scrape_mars.py ###########\n",
    "\n"
   ]
  },
  {
   "cell_type": "code",
   "execution_count": 92,
   "metadata": {},
   "outputs": [
    {
     "data": {
      "text/plain": [
       "bs4.element.ResultSet"
      ]
     },
     "execution_count": 92,
     "metadata": {},
     "output_type": "execute_result"
    }
   ],
   "source": [
    "### Mars Hemispheres\n",
    "#https://astrogeology.usgs.gov/search/map/Mars/Viking/cerberus_enhanced\n",
    "## https://astrogeology.usgs.gov/search/results?q=hemisphere+enhanced&k1=target&v1=Mars\n",
    "\n",
    "executable_path = {'executable_path': 'chromedriver.exe'}\n",
    "browser = Browser('chrome', **executable_path, headless=True)\n",
    "url = 'https://astrogeology.usgs.gov/search/results?q=hemisphere+enhanced&k1=target&v1=Mars'\n",
    "\n",
    "browser.visit(url)\n",
    "html = browser.html\n",
    "soup = BeautifulSoup(html, 'html.parser')\n",
    "#with open(\"mars_cerberus_hemisphere.html\", \"w\", encoding='utf-8') as file:\n",
    "    #file.write(str(soup))\n",
    "mars_ch=soup.find_all('a', class_=\"itemLink\")    \n",
    "type(mars_ch)    \n",
    "# print(mars_cerberus_hemisphere)"
   ]
  },
  {
   "cell_type": "code",
   "execution_count": 93,
   "metadata": {},
   "outputs": [
    {
     "name": "stdout",
     "output_type": "stream",
     "text": [
      "https://astrogeology.usgs.gov/cache/images/dfaf3849e74bf973b59eb50dab52b583_cerberus_enhanced.tif_thumb.png\n",
      "https://astrogeology.usgs.gov/cache/images/7677c0a006b83871b5a2f66985ab5857_schiaparelli_enhanced.tif_thumb.png\n",
      "https://astrogeology.usgs.gov/cache/images/aae41197e40d6d4f3ea557f8cfe51d15_syrtis_major_enhanced.tif_thumb.png\n",
      "https://astrogeology.usgs.gov/cache/images/04085d99ec3713883a9a57f42be9c725_valles_marineris_enhanced.tif_thumb.png\n"
     ]
    }
   ],
   "source": [
    "######## Building variables with the image link ###################\n",
    "####### If there was more time, would have written a loop to build this. For now delivering a cupcake. ##\n",
    "base_url_image='https://astrogeology.usgs.gov'\n",
    "\n",
    "cerberus=mars_ch[0]\n",
    "\n",
    "cerberus_url=cerberus.find('img')['src']\n",
    "#cerberus_title=cerberus.find('img')['alt']\n",
    "#print(cerberus_title)\n",
    "print(base_url_image+cerberus_url)\n",
    "\n",
    "schiaparelli=mars_ch[2]\n",
    "schiaparelli_url=schiaparelli.find('img')['src']\n",
    "#schiaparelli_title=schiaparelli.find('img')['alt']\n",
    "#print(schiaparelli_title)\n",
    "print(base_url_image+schiaparelli_url)\n",
    "\n",
    "syrtis_major=mars_ch[4]\n",
    "syrtis_major_url=syrtis_major.find('img')['src']\n",
    "#syrtis_major_title=syrtis_major.find('img')['alt']\n",
    "#print(syrtis_major_title)\n",
    "print(base_url_image+syrtis_major_url)\n",
    "\n",
    "valles_marineris=mars_ch[6]\n",
    "valles_marineris_url=valles_marineris.find('img')['src']\n",
    "#valles_marineris_title=valles_marineris.find('img')['alt']\n",
    "#print(valles_marineris_title)\n",
    "print(base_url_image+valles_marineris_url)\n"
   ]
  },
  {
   "cell_type": "code",
   "execution_count": 96,
   "metadata": {},
   "outputs": [
    {
     "name": "stdout",
     "output_type": "stream",
     "text": [
      "{'cerberus_title': 'https://astrogeology.usgs.gov/cache/images/dfaf3849e74bf973b59eb50dab52b583_cerberus_enhanced.tif_thumb.png', 'schiaparelli_title': 'https://astrogeology.usgs.gov/cache/images/7677c0a006b83871b5a2f66985ab5857_schiaparelli_enhanced.tif_thumb.png', 'syrtis_major_title': 'https://astrogeology.usgs.gov/cache/images/aae41197e40d6d4f3ea557f8cfe51d15_syrtis_major_enhanced.tif_thumb.png', 'valles_marineris_title': 'https://astrogeology.usgs.gov/cache/images/04085d99ec3713883a9a57f42be9c725_valles_marineris_enhanced.tif_thumb.png'}\n"
     ]
    }
   ],
   "source": [
    "#### Building a summary dictionary to load into MONGODB #######\n",
    "# summary_dict={\"cerberus_title\":base_url_image+cerberus_url, \n",
    "#               \"schiaparelli_title\": base_url_image+schiaparelli_url,\n",
    "#               \"syrtis_major_title\":base_url_image+syrtis_major_url,\n",
    "#               \"valles_marineris_title\":base_url_image+valles_marineris_url             \n",
    "#              }\n",
    "# print(summary_dict)\n"
   ]
  },
  {
   "cell_type": "code",
   "execution_count": 97,
   "metadata": {},
   "outputs": [],
   "source": [
    "cerberus=base_url_image+cerberus_url\n",
    "schiaparelli=base_url_image+schiaparelli_url\n",
    "syrtis_major=base_url_image+syrtis_major_url\n",
    "valles_marineris=base_url_image+valles_marineris_url\n"
   ]
  },
  {
   "cell_type": "code",
   "execution_count": 98,
   "metadata": {},
   "outputs": [
    {
     "data": {
      "text/plain": [
       "<pymongo.results.InsertOneResult at 0x195a3677948>"
      ]
     },
     "execution_count": 98,
     "metadata": {},
     "output_type": "execute_result"
    }
   ],
   "source": [
    "import pymongo\n",
    "import json\n",
    "\n",
    "conn = \"mongodb://localhost:27017\"\n",
    "client = pymongo.MongoClient(conn)\n",
    "db = client.mars_page\n",
    "# collection = db.mars_data\n",
    "\n",
    "### Convert the dataframe into a dictionary to store in the database.\n",
    "records=mars_dataframe.to_json(None, orient='records')\n",
    "mars_data_dict={\n",
    "    \"fullresolimage\": featured_image_url,\n",
    "    \"mars_news_title\":news_title,\n",
    "    \"mars_news_content\": news_p,\n",
    "    \"mars_weather\":mars_weather,\n",
    "    \"mars_dataframe\":records,\n",
    "    \"mars_hemisphere\":[cerberus,schiaparelli,syrtis_major, valles_marineris]\n",
    "}\n",
    "\n",
    "#### Delete the collection before inserting a new one. ####\n",
    "db.collection.delete_many({ })\n",
    "### Inserting data into mongodb ##########################\n",
    "db.collection.insert_one(mars_data_dict)\n",
    "\n"
   ]
  },
  {
   "cell_type": "code",
   "execution_count": 111,
   "metadata": {},
   "outputs": [
    {
     "name": "stdout",
     "output_type": "stream",
     "text": [
      "<table border=\"1\" class=\"dataframe table table-stripped\">\n",
      "  <thead>\n",
      "    <tr style=\"text-align: right;\">\n",
      "      <th></th>\n",
      "      <th></th>\n",
      "    </tr>\n",
      "    <tr>\n",
      "      <th>Dimensions</th>\n",
      "      <th></th>\n",
      "    </tr>\n",
      "  </thead>\n",
      "  <tbody>\n",
      "    <tr>\n",
      "      <th>6,792 km</th>\n",
      "      <td>Equatorial Diameter:</td>\n",
      "    </tr>\n",
      "    <tr>\n",
      "      <th>6,752 km</th>\n",
      "      <td>Polar Diameter:</td>\n",
      "    </tr>\n",
      "    <tr>\n",
      "      <th>6.39 × 10^23 kg  (0.11 Earths)</th>\n",
      "      <td>Mass:</td>\n",
      "    </tr>\n",
      "    <tr>\n",
      "      <th>2 (  Phobos  &amp;  Deimos  )</th>\n",
      "      <td>Moons:</td>\n",
      "    </tr>\n",
      "    <tr>\n",
      "      <th>227,943,824 km  (1.38 AU)</th>\n",
      "      <td>Orbit Distance:</td>\n",
      "    </tr>\n",
      "    <tr>\n",
      "      <th>687 days (1.9 years)</th>\n",
      "      <td>Orbit Period:</td>\n",
      "    </tr>\n",
      "    <tr>\n",
      "      <th>-87 to -5 °C</th>\n",
      "      <td>Surface Temperature:</td>\n",
      "    </tr>\n",
      "    <tr>\n",
      "      <th>2nd millennium BC</th>\n",
      "      <td>First Record:</td>\n",
      "    </tr>\n",
      "    <tr>\n",
      "      <th>Egyptian astronomers</th>\n",
      "      <td>Recorded By:</td>\n",
      "    </tr>\n",
      "  </tbody>\n",
      "</table>\n"
     ]
    }
   ],
   "source": [
    "###Testing python code here before using it in app.py - this will render the dataframe nicely\n",
    "destination_data = db.collection.find_one({})\n",
    "dict1=destination_data['mars_dataframe']\n",
    "import ast\n",
    "x=ast.literal_eval(dict1)\n",
    "        #print(len(x))\n",
    "newdf=pd.DataFrame({})\n",
    "for i in x:\n",
    "    newdf=newdf.append(pd.DataFrame([i]))\n",
    "\n",
    "import io\n",
    "newdf=newdf.rename(columns={\"0\": \" \", \"1\": \"Dimensions\"})\n",
    "newdf.head(10) \n",
    "newdf=newdf.set_index(['Dimensions'])\n",
    "str_io=io.StringIO()\n",
    "newdf.to_html(buf=str_io, classes='table table-stripped')\n",
    "html_str=str_io.getvalue()\n",
    "print(html_str)"
   ]
  },
  {
   "cell_type": "code",
   "execution_count": 116,
   "metadata": {},
   "outputs": [
    {
     "name": "stdout",
     "output_type": "stream",
     "text": [
      "https://astrogeology.usgs.gov/cache/images/dfaf3849e74bf973b59eb50dab52b583_cerberus_enhanced.tif_thumb.png\n"
     ]
    }
   ],
   "source": [
    "destination_data = db.collection.find_one({})   \n",
    "a=destination_data['mars_hemisphere_images']\n",
    "print(a[0])"
   ]
  }
 ],
 "metadata": {
  "kernelspec": {
   "display_name": "Python [conda env:pythonData] *",
   "language": "python",
   "name": "conda-env-pythonData-py"
  },
  "language_info": {
   "codemirror_mode": {
    "name": "ipython",
    "version": 3
   },
   "file_extension": ".py",
   "mimetype": "text/x-python",
   "name": "python",
   "nbconvert_exporter": "python",
   "pygments_lexer": "ipython3",
   "version": "3.7.3"
  }
 },
 "nbformat": 4,
 "nbformat_minor": 2
}
